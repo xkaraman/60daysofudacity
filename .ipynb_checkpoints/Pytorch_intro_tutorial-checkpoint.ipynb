{
 "cells": [
  {
   "cell_type": "code",
   "execution_count": 4,
   "metadata": {},
   "outputs": [],
   "source": [
    "%config IPCompleter.greedy=True\n",
    "import torch as th"
   ]
  },
  {
   "cell_type": "code",
   "execution_count": 9,
   "metadata": {},
   "outputs": [
    {
     "data": {
      "text/plain": [
       "tensor([5.5000, 3.0000])"
      ]
     },
     "execution_count": 9,
     "metadata": {},
     "output_type": "execute_result"
    }
   ],
   "source": [
    "x = th.tensor([5.5,3])\n",
    "x"
   ]
  },
  {
   "cell_type": "code",
   "execution_count": 34,
   "metadata": {},
   "outputs": [
    {
     "name": "stdout",
     "output_type": "stream",
     "text": [
      "tensor([[1., 1., 1.],\n",
      "        [1., 1., 1.],\n",
      "        [1., 1., 1.],\n",
      "        [1., 1., 1.],\n",
      "        [1., 1., 1.]])\n",
      "tensor([[1., 1., 1.],\n",
      "        [1., 1., 1.],\n",
      "        [1., 1., 1.],\n",
      "        [1., 1., 1.],\n",
      "        [1., 1., 1.]])\n",
      "tensor([[0.1583, 0.6091, 0.1460],\n",
      "        [0.6774, 0.0909, 0.0605],\n",
      "        [0.5275, 0.6534, 0.1577],\n",
      "        [0.6255, 0.3651, 0.3913],\n",
      "        [0.8498, 0.4404, 0.9638]])\n"
     ]
    }
   ],
   "source": [
    "x = x.new_ones(5,3)\n",
    "z = th.rand_like(x)\n",
    "print(x)\n",
    "print(y)\n",
    "print(z)"
   ]
  },
  {
   "cell_type": "code",
   "execution_count": 35,
   "metadata": {},
   "outputs": [
    {
     "name": "stdout",
     "output_type": "stream",
     "text": [
      "tensor([[1.1583, 1.6091, 1.1460],\n",
      "        [1.6774, 1.0909, 1.0605],\n",
      "        [1.5275, 1.6534, 1.1577],\n",
      "        [1.6255, 1.3651, 1.3913],\n",
      "        [1.8498, 1.4404, 1.9638]])\n",
      "tensor([[1.1583, 1.6091, 1.1460],\n",
      "        [1.6774, 1.0909, 1.0605],\n",
      "        [1.5275, 1.6534, 1.1577],\n",
      "        [1.6255, 1.3651, 1.3913],\n",
      "        [1.8498, 1.4404, 1.9638]])\n",
      "tensor([[1.1583, 1.6091, 1.1460],\n",
      "        [1.6774, 1.0909, 1.0605],\n",
      "        [1.5275, 1.6534, 1.1577],\n",
      "        [1.6255, 1.3651, 1.3913],\n",
      "        [1.8498, 1.4404, 1.9638]])\n"
     ]
    }
   ],
   "source": [
    "# Addition\n",
    "print(x+z)\n",
    "print(th.add(x,z))\n",
    "result = th.rand_like(x)\n",
    "th.add(x,z,out = result)\n",
    "print(result)\n"
   ]
  },
  {
   "cell_type": "code",
   "execution_count": 53,
   "metadata": {},
   "outputs": [
    {
     "name": "stdout",
     "output_type": "stream",
     "text": [
      "tensor([1.1583, 1.6091, 1.1460])\n",
      "1.6091046333312988\n"
     ]
    }
   ],
   "source": [
    "# Access\n",
    "print( result[0,:])\n",
    "# Get as Python number Only for single element tensors\n",
    "print( result[0,1].item())"
   ]
  },
  {
   "cell_type": "code",
   "execution_count": 54,
   "metadata": {},
   "outputs": [
    {
     "name": "stdout",
     "output_type": "stream",
     "text": [
      "torch.Size([4, 4]) torch.Size([16]) torch.Size([2, 8])\n"
     ]
    }
   ],
   "source": [
    "# Reshape/Resize\n",
    "x = th.randn(4,4)\n",
    "y = x.view(16)\n",
    "z = x.view(-1,8)\n",
    "print(x.size(), y.size(), z.size())\n"
   ]
  },
  {
   "cell_type": "code",
   "execution_count": 72,
   "metadata": {},
   "outputs": [
    {
     "name": "stdout",
     "output_type": "stream",
     "text": [
      "<class 'torch.Tensor'>\n",
      "<class 'numpy.ndarray'>\n",
      "tensor([[1., 1., 1., 1., 1.],\n",
      "        [1., 1., 1., 1., 1.],\n",
      "        [1., 1., 1., 1., 1.],\n",
      "        [1., 1., 1., 1., 1.]])\n",
      "tensor([[2., 2., 2., 2., 2.],\n",
      "        [2., 2., 2., 2., 2.],\n",
      "        [2., 2., 2., 2., 2.],\n",
      "        [2., 2., 2., 2., 2.]])\n",
      "tensor([[3., 3., 3., 3., 3.],\n",
      "        [3., 3., 3., 3., 3.],\n",
      "        [3., 3., 3., 3., 3.],\n",
      "        [3., 3., 3., 3., 3.]])\n",
      "[[3. 3. 3. 3. 3.]\n",
      " [3. 3. 3. 3. 3.]\n",
      " [3. 3. 3. 3. 3.]\n",
      " [3. 3. 3. 3. 3.]]\n"
     ]
    }
   ],
   "source": [
    "# Torch to Numpy and inverse\n",
    "a = th.ones(4,5)\n",
    "print(type(a))\n",
    "b = a.numpy()\n",
    "print(type(b))\n",
    "\n",
    "# Add is NOT an inplace operation and returns a Tensor\n",
    "c = a.add(1)\n",
    "print(a)\n",
    "print(c)\n",
    "\n",
    "# Add_ is an inplace operation and changes the actual Tensor and hence the numpy variable\n",
    "a.add_(2)\n",
    "print(a)\n",
    "print(b)\n"
   ]
  },
  {
   "cell_type": "code",
   "execution_count": 75,
   "metadata": {},
   "outputs": [
    {
     "name": "stdout",
     "output_type": "stream",
     "text": [
      "[[5. 5. 5. 5. 5.]\n",
      " [5. 5. 5. 5. 5.]\n",
      " [5. 5. 5. 5. 5.]\n",
      " [5. 5. 5. 5. 5.]]\n",
      "tensor([[5., 5., 5., 5., 5.],\n",
      "        [5., 5., 5., 5., 5.],\n",
      "        [5., 5., 5., 5., 5.],\n",
      "        [5., 5., 5., 5., 5.]])\n"
     ]
    }
   ],
   "source": [
    "import numpy as np\n",
    "d = th.from_numpy(b)\n",
    "np.add(b,2, out = b)\n",
    "print(b)\n",
    "print(d)"
   ]
  },
  {
   "cell_type": "code",
   "execution_count": 82,
   "metadata": {},
   "outputs": [
    {
     "name": "stdout",
     "output_type": "stream",
     "text": [
      "tensor([[ 0.4919,  0.5584,  0.9684,  1.6930,  0.2111,  0.9997,  0.7734, -0.2431],\n",
      "        [ 0.2887,  0.2394,  0.5132,  2.1081,  0.8562,  0.9943,  1.3071,  3.3660]],\n",
      "       device='cuda:0')\n",
      "tensor([[ 0.4919,  0.5584,  0.9684,  1.6930,  0.2111,  0.9997,  0.7734, -0.2431],\n",
      "        [ 0.2887,  0.2394,  0.5132,  2.1081,  0.8562,  0.9943,  1.3071,  3.3660]]) torch.float64\n"
     ]
    }
   ],
   "source": [
    "# Tensors in CUDA\n",
    "if th.cuda.is_available():\n",
    "    device = th.device(\"cuda\")\n",
    "    y = th.ones_like(z,device = device)\n",
    "    z = z.to(device)\n",
    "    sum = y + z\n",
    "    print(sum)\n",
    "    print(sum.to(\"cpu\"),th.double)"
   ]
  },
  {
   "cell_type": "code",
   "execution_count": null,
   "metadata": {},
   "outputs": [],
   "source": []
  }
 ],
 "metadata": {
  "kernelspec": {
   "display_name": "Python 3",
   "language": "python",
   "name": "python3"
  },
  "language_info": {
   "codemirror_mode": {
    "name": "ipython",
    "version": 3
   },
   "file_extension": ".py",
   "mimetype": "text/x-python",
   "name": "python",
   "nbconvert_exporter": "python",
   "pygments_lexer": "ipython3",
   "version": "3.7.3"
  }
 },
 "nbformat": 4,
 "nbformat_minor": 2
}
